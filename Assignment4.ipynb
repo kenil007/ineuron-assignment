{
 "cells": [
  {
   "cell_type": "markdown",
   "metadata": {},
   "source": [
    "### Question 1.1"
   ]
  },
  {
   "cell_type": "code",
   "execution_count": 43,
   "metadata": {},
   "outputs": [],
   "source": [
    "class Triangle:\n",
    "    def __init__(self,a,b,c):\n",
    "        self.side_a = a\n",
    "        self.side_b = b\n",
    "        self.side_c = c\n",
    "    def __str__(self):\n",
    "        return(\"Triangle has sides A = {} ,B = {} ,C = {} \".format(self.side_a,self.side_b,self.side_c))\n",
    "\n",
    "class TArea(Triangle):\n",
    "    def __init__ (self,a,b,c):\n",
    "        Triangle.__init__(self,a,b,c)\n",
    "    \n",
    "    def get_area(self):\n",
    "        soa = (self.side_a + self.side_b + self.side_c)/2\n",
    "        print(soa)\n",
    "        area = pow((soa*(soa-self.side_a)*(soa-self.side_b)*(soa-self.side_c)),0.5)\n",
    "        print(area)    "
   ]
  },
  {
   "cell_type": "code",
   "execution_count": 44,
   "metadata": {},
   "outputs": [
    {
     "name": "stdout",
     "output_type": "stream",
     "text": [
      "3.5\n",
      "1.479019945774904\n"
     ]
    }
   ],
   "source": [
    "ab = TArea(1,3,3)\n",
    "ab.get_area()"
   ]
  },
  {
   "cell_type": "markdown",
   "metadata": {},
   "source": [
    "### Question 1.2"
   ]
  },
  {
   "cell_type": "code",
   "execution_count": 2,
   "metadata": {},
   "outputs": [],
   "source": [
    "def Wfilter(wlist,wlen):\n",
    "    trunc_list = list()\n",
    "    for word in wlist:\n",
    "        if len(word) > wlen:\n",
    "            trunc_list.append(word)\n",
    "    return trunc_list\n"
   ]
  },
  {
   "cell_type": "code",
   "execution_count": 3,
   "metadata": {},
   "outputs": [
    {
     "data": {
      "text/plain": [
       "['hello', 'bye']"
      ]
     },
     "execution_count": 3,
     "metadata": {},
     "output_type": "execute_result"
    }
   ],
   "source": [
    "Wfilter(['hello','ok','bye'],2)"
   ]
  },
  {
   "cell_type": "markdown",
   "metadata": {},
   "source": [
    "### Question 2.1"
   ]
  },
  {
   "cell_type": "code",
   "execution_count": 5,
   "metadata": {},
   "outputs": [],
   "source": [
    "def Wmap(wlist):\n",
    "    len_map_list = list()\n",
    "    for word in wlist:\n",
    "        len_map_list.append(len(word))\n",
    "    return len_map_list"
   ]
  },
  {
   "cell_type": "code",
   "execution_count": 6,
   "metadata": {},
   "outputs": [
    {
     "data": {
      "text/plain": [
       "[5, 2, 3]"
      ]
     },
     "execution_count": 6,
     "metadata": {},
     "output_type": "execute_result"
    }
   ],
   "source": [
    "Wmap(['hello','ok','bye'])"
   ]
  },
  {
   "cell_type": "markdown",
   "metadata": {},
   "source": [
    "### Question 2.2"
   ]
  },
  {
   "cell_type": "code",
   "execution_count": 12,
   "metadata": {},
   "outputs": [],
   "source": [
    "def vowelchecker(a):\n",
    "    if a.lower() in ['a','e','i','o','u']:\n",
    "        return True\n",
    "    elif len(a) >1:\n",
    "        print(\"Enter single character only\")\n",
    "    else :\n",
    "        return False"
   ]
  },
  {
   "cell_type": "code",
   "execution_count": 13,
   "metadata": {},
   "outputs": [
    {
     "name": "stdout",
     "output_type": "stream",
     "text": [
      "Enter single character only\n"
     ]
    }
   ],
   "source": [
    "vowelchecker('bb')"
   ]
  }
 ],
 "metadata": {
  "kernelspec": {
   "display_name": "Python 3",
   "language": "python",
   "name": "python3"
  },
  "language_info": {
   "codemirror_mode": {
    "name": "ipython",
    "version": 3
   },
   "file_extension": ".py",
   "mimetype": "text/x-python",
   "name": "python",
   "nbconvert_exporter": "python",
   "pygments_lexer": "ipython3",
   "version": "3.8.5"
  }
 },
 "nbformat": 4,
 "nbformat_minor": 4
}
